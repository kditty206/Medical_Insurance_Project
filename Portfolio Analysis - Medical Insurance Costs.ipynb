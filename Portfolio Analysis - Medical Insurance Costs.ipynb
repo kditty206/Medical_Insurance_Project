{
 "cells": [
  {
   "cell_type": "markdown",
   "metadata": {},
   "source": [
    "# U.S. Medical Insurance Costs"
   ]
  },
  {
   "cell_type": "markdown",
   "metadata": {},
   "source": [
    "## Import data and create to list for analysis"
   ]
  },
  {
   "cell_type": "code",
   "execution_count": 507,
   "metadata": {},
   "outputs": [],
   "source": [
    "import csv\n",
    "\n",
    "#lists for data analysis\n",
    "age = []\n",
    "sex = []\n",
    "bmi = []\n",
    "num_children = []\n",
    "smoker = []\n",
    "region = []\n",
    "charges = []\n",
    "\n",
    "# Import data set and convert to preferred data format\n",
    "with open('insurance.csv') as raw_data:\n",
    "    insurance_data = csv.DictReader(raw_data)\n",
    "    for row in insurance_data:\n",
    "        age.append(row['age'])\n",
    "        sex.append(row['sex'])\n",
    "        bmi.append(float(row['bmi']))\n",
    "        num_children.append(row['children'])\n",
    "        smoker.append(row['smoker'])\n",
    "        region.append(row['region'])\n",
    "        charges.append(float(row['charges']))"
   ]
  },
  {
   "cell_type": "markdown",
   "metadata": {},
   "source": [
    "## Cost of insurance based on user determined factor\n"
   ]
  },
  {
   "cell_type": "code",
   "execution_count": 508,
   "metadata": {},
   "outputs": [],
   "source": [
    "def cost_comparison(base_list, factor):\n",
    "    base_count = sorted(list(set(base_list)))\n",
    "    count_comp = list(zip(base_list, charges))\n",
    "    comp_dict = dict.fromkeys(base_count,)\n",
    "    \n",
    "    total_count = len(base_list)\n",
    "    \n",
    "    # base field headers for tables and dictionary values\n",
    "    \n",
    "    field1 = 'frequency'\n",
    "    field2 = 'total'\n",
    "    field3 = 'average'\n",
    "    field4 = 'proportion'\n",
    "    \n",
    "    # adjustable headers where length of field exceeds length of existing header\n",
    "    \n",
    "    field1_adj = field1\n",
    "    field2_adj = field2\n",
    "    field3_adj = field3\n",
    "    field4_adj = field4\n",
    "    \n",
    "    #lengths of adjusted fields\n",
    "    \n",
    "    max_factor = len(factor)\n",
    "    max_field1 = len(field1_adj)\n",
    "    max_field2 = len(field2_adj)\n",
    "    max_field3 = len(field3_adj)\n",
    "    max_field4 = len(field4_adj)\n",
    "    \n",
    "    title = ''\n",
    "    row_break = ''\n",
    "    \n",
    "    for key in comp_dict.keys():\n",
    "        count = 0\n",
    "        total = 0\n",
    "        for base in base_list:\n",
    "            if (base == key):\n",
    "                count += 1\n",
    "        for comp_row in count_comp:\n",
    "            if comp_row[0] == key:\n",
    "                total += comp_row[1]\n",
    "        avg = total / count\n",
    "        \n",
    "        count = round(count,0)\n",
    "        total = round(total,2)\n",
    "        avg = round(avg,2)\n",
    "        percent = round((count / total_count),2)\n",
    "        \n",
    "        #adjust length of title for table output\n",
    "        \n",
    "        while len(key) >= max_factor:\n",
    "            factor = ' ' + factor + ' '\n",
    "            max_factor = len(factor)\n",
    "        \n",
    "        while len(str(count)) >= max_field1:\n",
    "            field1_adj = ' ' + field1_adj + ' '\n",
    "            max_field1 = len(field1_adj)\n",
    "\n",
    "        while len(str(total)) >= max_field2:\n",
    "            field2_adj = ' ' + field2_adj + ' '\n",
    "            max_field2 = len(field2_adj)\n",
    "        \n",
    "        while len(str(avg)) >= max_field3:\n",
    "            field3_adj = ' ' + field3_adj + ' '\n",
    "            max_field3 = len(field3_adj)\n",
    "        \n",
    "        while len(str(avg)) >= max_field4:\n",
    "            field4_adj = ' ' + field4_adj + ' '\n",
    "            max_field4 = len(field4_adj)\n",
    "        \n",
    "        \n",
    "        comp_dict[key] = {field1:count, field4:percent, field2:total, field3:avg}\n",
    "    \n",
    "    title = ('| ' + str.upper(factor) + ' | ' + str.upper(field1_adj) + ' | ' + str.upper(field4_adj) + ' | ' + str.upper(field2_adj) + ' | ' + str.upper(field3_adj) + ' |')\n",
    "    i = 0\n",
    "    for i in range(len(title)):\n",
    "        row_break = row_break + '-'\n",
    "    \n",
    "    print(row_break)\n",
    "    print(title)\n",
    "    print(row_break)\n",
    "    \n",
    "    for row in comp_dict:\n",
    "        print('| '+ row.center(max_factor) + ' | '+ str(comp_dict[row][field1]).center(max_field1) + ' | '+ str(comp_dict[row][field4]).center(max_field4) + ' | '+ str(comp_dict[row][field2]).center(max_field2)+ ' | '+ str(comp_dict[row][field3]).center(max_field3) + ' |')\n",
    "        print(row_break)\n",
    "    \n",
    "    return comp_dict"
   ]
  },
  {
   "cell_type": "markdown",
   "metadata": {},
   "source": [
    "### Number of children cost comparison"
   ]
  },
  {
   "cell_type": "code",
   "execution_count": 509,
   "metadata": {},
   "outputs": [
    {
     "name": "stdout",
     "output_type": "stream",
     "text": [
      "----------------------------------------------------------------------\n",
      "| NUM OF CHILDREN | FREQUENCY | PROPORTION |    TOTAL    |  AVERAGE  |\n",
      "----------------------------------------------------------------------\n",
      "|        0        |    574    |    0.43    |  7098070.0  |  12365.98 |\n",
      "----------------------------------------------------------------------\n",
      "|        1        |    324    |    0.24    |  4124899.67 |  12731.17 |\n",
      "----------------------------------------------------------------------\n",
      "|        2        |    240    |    0.18    |  3617655.3  |  15073.56 |\n",
      "----------------------------------------------------------------------\n",
      "|        3        |    157    |    0.12    |  2410784.98 |  15355.32 |\n",
      "----------------------------------------------------------------------\n",
      "|        4        |     25    |    0.02    |  346266.41  |  13850.66 |\n",
      "----------------------------------------------------------------------\n",
      "|        5        |     18    |    0.01    |  158148.63  |  8786.04  |\n",
      "----------------------------------------------------------------------\n"
     ]
    }
   ],
   "source": [
    "child_cost_comp = cost_comparison(num_children, 'num of children')"
   ]
  },
  {
   "cell_type": "markdown",
   "metadata": {},
   "source": [
    "### Gender cost comparison"
   ]
  },
  {
   "cell_type": "code",
   "execution_count": 510,
   "metadata": {},
   "outputs": [
    {
     "name": "stdout",
     "output_type": "stream",
     "text": [
      "---------------------------------------------------------------\n",
      "|  GENDER  | FREQUENCY | PROPORTION |    TOTAL    |  AVERAGE  |\n",
      "---------------------------------------------------------------\n",
      "|  female  |    662    |    0.49    |  8321061.19 |  12569.58 |\n",
      "---------------------------------------------------------------\n",
      "|   male   |    676    |    0.51    |  9434763.8  |  13956.75 |\n",
      "---------------------------------------------------------------\n"
     ]
    }
   ],
   "source": [
    "gender_cost_comp = cost_comparison(sex, 'gender')"
   ]
  },
  {
   "cell_type": "markdown",
   "metadata": {},
   "source": [
    "### Smoker cost comparison"
   ]
  },
  {
   "cell_type": "code",
   "execution_count": 511,
   "metadata": {},
   "outputs": [
    {
     "name": "stdout",
     "output_type": "stream",
     "text": [
      "-------------------------------------------------------------\n",
      "| SMOKER | FREQUENCY | PROPORTION |    TOTAL    |  AVERAGE  |\n",
      "-------------------------------------------------------------\n",
      "|   no   |    1064   |    0.8     |  8974061.47 |  8434.27  |\n",
      "-------------------------------------------------------------\n",
      "|  yes   |    274    |    0.2     |  8781763.52 |  32050.23 |\n",
      "-------------------------------------------------------------\n"
     ]
    }
   ],
   "source": [
    "smoker_cost_comp = cost_comparison(smoker, 'smoker')"
   ]
  },
  {
   "cell_type": "markdown",
   "metadata": {},
   "source": [
    "### Region cost comparison"
   ]
  },
  {
   "cell_type": "code",
   "execution_count": 512,
   "metadata": {},
   "outputs": [
    {
     "name": "stdout",
     "output_type": "stream",
     "text": [
      "-----------------------------------------------------------------\n",
      "|   REGION   | FREQUENCY | PROPORTION |    TOTAL    |  AVERAGE  |\n",
      "-----------------------------------------------------------------\n",
      "| northeast  |    324    |    0.24    |  4343668.58 |  13406.38 |\n",
      "-----------------------------------------------------------------\n",
      "| northwest  |    325    |    0.24    |  4035712.0  |  12417.58 |\n",
      "-----------------------------------------------------------------\n",
      "| southeast  |    364    |    0.27    |  5363689.76 |  14735.41 |\n",
      "-----------------------------------------------------------------\n",
      "| southwest  |    325    |    0.24    |  4012754.65 |  12346.94 |\n",
      "-----------------------------------------------------------------\n"
     ]
    }
   ],
   "source": [
    "region_cost_comp = cost_comparison(region, 'region')"
   ]
  }
 ],
 "metadata": {
  "kernelspec": {
   "display_name": "Python 3 (ipykernel)",
   "language": "python",
   "name": "python3"
  },
  "language_info": {
   "codemirror_mode": {
    "name": "ipython",
    "version": 3
   },
   "file_extension": ".py",
   "mimetype": "text/x-python",
   "name": "python",
   "nbconvert_exporter": "python",
   "pygments_lexer": "ipython3",
   "version": "3.9.12"
  }
 },
 "nbformat": 4,
 "nbformat_minor": 4
}
